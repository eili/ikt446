{
 "cells": [
  {
   "cell_type": "code",
   "execution_count": 324,
   "metadata": {},
   "outputs": [],
   "source": [
    "import jsonimport csv\n",
    "from pathlib import Path\n",
    "import pandas as pd"
   ]
  },
  {
   "cell_type": "code",
   "execution_count": 327,
   "metadata": {},
   "outputs": [],
   "source": [
    "def csv2json(sourcefile, destfile):\n",
    "    df = pd.read_csv(sourcefile, sep=';', encoding=\"ISO-8859-1\")          \n",
    "    print(df.head())\n",
    "    #df.describe()\n",
    "    #df.dtypes\n",
    "    df.to_json(destfile, orient='records')    "
   ]
  },
  {
   "cell_type": "code",
   "execution_count": 326,
   "metadata": {
    "scrolled": true
   },
   "outputs": [
    {
     "name": "stdout",
     "output_type": "stream",
     "text": [
      "   year  month  currency\n",
      "0  2014      1    6.1598\n",
      "1  2014      2    6.1285\n",
      "2  2014      3    6.0022\n",
      "3  2014      4    5.9792\n",
      "4  2014      5    5.9386\n"
     ]
    }
   ],
   "source": [
    "csv2json(Path(\"C:/tmp/mongodb/currency.csv\"), Path(\"C:/tmp/mongodb/currency.json\"))"
   ]
  },
  {
   "cell_type": "code",
   "execution_count": 328,
   "metadata": {},
   "outputs": [
    {
     "name": "stdout",
     "output_type": "stream",
     "text": [
      "   year  month  value\n",
      "0  2018     10  76.73\n",
      "1  2018      9  75.36\n",
      "2  2018      8  71.08\n",
      "3  2018      7  72.67\n",
      "4  2018      6  71.98\n"
     ]
    }
   ],
   "source": [
    "csv2json(Path(\"C:/tmp/mongodb/oilprice.csv\"), Path(\"C:/tmp/mongodb/oilprice.json\"))"
   ]
  },
  {
   "cell_type": "code",
   "execution_count": 329,
   "metadata": {},
   "outputs": [
    {
     "name": "stdout",
     "output_type": "stream",
     "text": [
      "   cc  amount  year  month product\n",
      "0  CA     512  2014      1   crude\n",
      "1  DK     630  2014      1   crude\n",
      "2  FI       0  2014      1   crude\n",
      "3  FR     994  2014      1   crude\n",
      "4  IE     849  2014      1   crude\n"
     ]
    }
   ],
   "source": [
    "csv2json(Path(\"C:/tmp/mongodb/export_crude.csv\"), Path(\"C:/tmp/mongodb/export_crude.json\"))"
   ]
  }
 ],
 "metadata": {
  "kernelspec": {
   "display_name": "Python 3",
   "language": "python",
   "name": "python3"
  },
  "language_info": {
   "codemirror_mode": {
    "name": "ipython",
    "version": 3
   },
   "file_extension": ".py",
   "mimetype": "text/x-python",
   "name": "python",
   "nbconvert_exporter": "python",
   "pygments_lexer": "ipython3",
   "version": "3.6.5"
  }
 },
 "nbformat": 4,
 "nbformat_minor": 2
}
